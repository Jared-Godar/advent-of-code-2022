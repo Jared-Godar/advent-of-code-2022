{
 "cells": [
  {
   "attachments": {},
   "cell_type": "markdown",
   "metadata": {},
   "source": [
    "--- Day 8: Treetop Tree House ---\n",
    "\n",
    "The expedition comes across a peculiar patch of tall trees all planted carefully in a grid. The Elves explain that a previous expedition planted these trees as a reforestation effort. Now, they're curious if this would be a good location for a tree house.\n",
    "\n",
    "First, determine whether there is enough tree cover here to keep a tree house hidden. To do this, you need to count the number of trees that are visible from outside the grid when looking directly along a row or column.\n",
    "\n",
    "The Elves have already launched a quadcopter to generate a map with the height of each tree (your puzzle input). For example:\n",
    "\n",
    "```\n",
    "30373\n",
    "25512\n",
    "65332\n",
    "33549\n",
    "35390\n",
    "```\n",
    "\n",
    "Each tree is represented as a single digit whose value is its height, where 0 is the shortest and 9 is the tallest.\n",
    "\n",
    "A tree is visible if all of the other trees between it and an edge of the grid are shorter than it. Only consider trees in the same row or column; that is, only look up, down, left, or right from any given tree.\n",
    "\n",
    "All of the trees around the edge of the grid are visible - since they are already on the edge, there are no trees to block the view. In this example, that only leaves the interior nine trees to consider:\n",
    "    - The top-left 5 is visible from the left and top. (It isn't visible from the right or bottom since other trees of height 5 are in the way.)\n",
    "    - The top-middle 5 is visible from the top and right.\n",
    "    - The top-right 1 is not visible from any direction; for it to be visible, there would need to only be trees of height 0 between it and an edge.\n",
    "    - The left-middle 5 is visible, but only from the right.\n",
    "    - The center 3 is not visible from any direction; for it to be visible, there would need to be only trees of at most height 2 between it and an edge.\n",
    "    - The right-middle 3 is visible from the right.\n",
    "    - In the bottom row, the middle 5 is visible, but the 3 and 4 are not.\n",
    "\n",
    "With 16 trees visible on the edge and another 5 visible in the interior, a total of 21 trees are visible in this arrangement.\n",
    "\n",
    "Consider your map; how many trees are visible from outside the grid?"
   ]
  },
  {
   "cell_type": "code",
   "execution_count": 4,
   "metadata": {},
   "outputs": [],
   "source": [
    "# Part 1\n",
    "def find_visible():\n",
    "    visible_master = set()\n",
    "    row_len = len(forest[0])\n",
    "    for i, row in enumerate(forest):\n",
    "        col = [line[i] for line in forest]\n",
    "        visible_trees_horizontal = [((i, 0), row[0])]\n",
    "        visible_trees_vertical = [((0, i), col[0])]\n",
    " \n",
    "        # Traverse row left to right\n",
    "        for k, tree in enumerate(row):\n",
    "            if tree > visible_trees_horizontal[-1][1]:\n",
    "                visible_trees_horizontal.append(((i, k), tree))\n",
    " \n",
    "        # Traverse row right to left\n",
    "        visible_trees_horizontal.append(((i, row_len - 1), row[-1]))\n",
    "        for k, tree in enumerate(row[::-1]):\n",
    "            if tree > visible_trees_horizontal[-1][1]:\n",
    "                visible_trees_horizontal.append(((i, row_len - k - 1), tree))\n",
    " \n",
    "        # Traverse col top to btm\n",
    "        for k, tree in enumerate(col):\n",
    "            if tree > visible_trees_vertical[-1][1]:\n",
    "                visible_trees_vertical.append(((k, i), tree))\n",
    " \n",
    "        # Traverse col btm to top\n",
    "        visible_trees_vertical.append(((row_len - 1, i), col[-1]))\n",
    "        for k, tree in enumerate(col[::-1]):\n",
    "            if tree > visible_trees_vertical[-1][1]:\n",
    "                visible_trees_vertical.append(((row_len - k - 1, i), tree))\n",
    " \n",
    "        visible_master = visible_master | set(visible_trees_horizontal) | set(visible_trees_vertical)\n",
    " \n",
    "    return len(visible_master)"
   ]
  },
  {
   "cell_type": "code",
   "execution_count": 5,
   "metadata": {},
   "outputs": [],
   "source": [
    "# Part 2\n",
    "def calculate_scenic_scores():\n",
    "    max_scenic_score = -1\n",
    "    best_tree = None\n",
    "    for i in range(1, len(forest) - 1):\n",
    "        for k in range(1, len(forest[0]) - 1):\n",
    "            tree = forest[i][k]\n",
    "            scenic_score = [0, 0, 0, 0]\n",
    " \n",
    "            # Look left\n",
    "            for n in range(1, i + 1):\n",
    "                scenic_score[0] += 1\n",
    "                if tree <= forest[i - n][k]: break\n",
    " \n",
    "            # Look right\n",
    "            for n in range(i + 1, len(forest)):\n",
    "                scenic_score[1] += 1\n",
    "                if tree <= forest[n][k]: break\n",
    " \n",
    "            # Look up\n",
    "            for n in range(1, k + 1):\n",
    "                scenic_score[2] += 1\n",
    "                if tree <= forest[i][k - n]: break\n",
    " \n",
    "            # Look down\n",
    "            for n in range(k + 1, len(forest[0])):\n",
    "                scenic_score[3] += 1\n",
    "                if tree <= forest[i][n]: break\n",
    " \n",
    "            score = scenic_score[0] * scenic_score[1] * scenic_score[2] * scenic_score[3]\n",
    "            if score > max_scenic_score:\n",
    "                max_scenic_score = score\n",
    "                best_tree = ((i, k), tree)\n",
    " \n",
    "    print(\"Best Tree: \", best_tree)\n",
    "    return max_scenic_score\n",
    " \n",
    " "
   ]
  },
  {
   "cell_type": "code",
   "execution_count": 6,
   "metadata": {},
   "outputs": [
    {
     "name": "stdout",
     "output_type": "stream",
     "text": [
      "Best Tree:  ((57, 15), '7')\n",
      "Part 1:  1812 \n",
      "Part 2:  315495\n"
     ]
    }
   ],
   "source": [
    "# Main\n",
    "if __name__ == \"__main__\":\n",
    "    # Get data from today's AoC input file\n",
    "    with open(\"d8.txt\") as file:\n",
    "        forest = [[n for n in line.strip()] for line in file]\n",
    " \n",
    "    # Part 1\n",
    "    num_visible_trees = find_visible()\n",
    " \n",
    "    # Part 2\n",
    "    highest_scenic_score = calculate_scenic_scores()\n",
    " \n",
    "    # Display\n",
    "    print(\"Part 1: \", num_visible_trees, \"\\nPart 2: \", highest_scenic_score)\n"
   ]
  },
  {
   "cell_type": "code",
   "execution_count": null,
   "metadata": {},
   "outputs": [],
   "source": []
  }
 ],
 "metadata": {
  "kernelspec": {
   "display_name": "Python 3.9.12 ('base')",
   "language": "python",
   "name": "python3"
  },
  "language_info": {
   "codemirror_mode": {
    "name": "ipython",
    "version": 3
   },
   "file_extension": ".py",
   "mimetype": "text/x-python",
   "name": "python",
   "nbconvert_exporter": "python",
   "pygments_lexer": "ipython3",
   "version": "3.9.12"
  },
  "orig_nbformat": 4,
  "vscode": {
   "interpreter": {
    "hash": "38cca0c38332a56087b24af0bc80247f4fced29cb4f7f437d91dc159adec9c4e"
   }
  }
 },
 "nbformat": 4,
 "nbformat_minor": 2
}
